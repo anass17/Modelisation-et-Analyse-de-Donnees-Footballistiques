{
 "cells": [
  {
   "cell_type": "markdown",
   "id": "910b5144",
   "metadata": {},
   "source": [
    "### Extraire les informations sur les équipes participant à la Premier League pour la saison 2024–2025."
   ]
  },
  {
   "cell_type": "code",
   "execution_count": 116,
   "id": "73d82605",
   "metadata": {},
   "outputs": [],
   "source": [
    "import pandas as pd\n",
    "import numpy as np\n",
    "import os\n",
    "import time"
   ]
  },
  {
   "cell_type": "code",
   "execution_count": null,
   "id": "18f6b909",
   "metadata": {},
   "outputs": [],
   "source": [
    "from selenium import webdriver\n",
    "from selenium.webdriver.common.by import By\n",
    "from selenium.webdriver.common.keys import Keys\n",
    "from selenium.webdriver.chrome.options import Options\n",
    "\n",
    "chrome_options = Options()\n",
    "chrome_options.add_argument(\"--start-maximized\")\n",
    "\n",
    "driver = webdriver.Chrome(options=chrome_options)\n",
    "\n",
    "driver.get(\"https://fbref.com/en/comps/9/2024-2025/2024-2025-Premier-League-Stats\")\n"
   ]
  },
  {
   "cell_type": "markdown",
   "id": "0ab4f9f1",
   "metadata": {},
   "source": [
    "- Créer un dossier (teams) pour stocker les données"
   ]
  },
  {
   "cell_type": "code",
   "execution_count": 126,
   "id": "86e175b6",
   "metadata": {},
   "outputs": [],
   "source": [
    "raw_path = '../data/raw'\n",
    "raw_teams_path = os.path.join(raw_path, 'teams')\n",
    "\n",
    "os.makedirs(raw_teams_path, exist_ok=True)"
   ]
  },
  {
   "cell_type": "markdown",
   "id": "ff44c3cc",
   "metadata": {},
   "source": [
    "- Selectionner tous les équipes:"
   ]
  },
  {
   "cell_type": "code",
   "execution_count": null,
   "id": "9627befe",
   "metadata": {},
   "outputs": [],
   "source": [
    "try:\n",
    "    squads_table = driver.find_element(By.CSS_SELECTOR, '.stats_table.sortable')\n",
    "except:\n",
    "    print('Table Not found')\n",
    "else:\n",
    "    squads = squads_table.find_elements(By.CSS_SELECTOR, 'tbody > tr td[data-stat=\"team\"] a')\n"
   ]
  },
  {
   "cell_type": "markdown",
   "id": "264ff77d",
   "metadata": {},
   "source": [
    "- Pour chaque équipe, selectionner les information de chaque joueur"
   ]
  },
  {
   "cell_type": "code",
   "execution_count": null,
   "id": "ab71a21c",
   "metadata": {},
   "outputs": [],
   "source": [
    "for squad in squads:\n",
    "\n",
    "    # Selectionner la premiére fenêtre\n",
    "    driver.switch_to.window(driver.window_handles[0])\n",
    "\n",
    "    squad_path = os.path.join(raw_teams_path, squad.text)\n",
    "\n",
    "    os.makedirs(squad_path, exist_ok=True)\n",
    "\n",
    "    # Ovrir le lien dans une nouvelle fenêtre\n",
    "    squad_page_link = squad.get_attribute('href')\n",
    "    driver.execute_script(f\"window.open('{squad_page_link}', '_blank');\")\n",
    "\n",
    "    # Selectionner la deuxiéme fenêtre\n",
    "    driver.switch_to.window(driver.window_handles[-1])\n",
    "\n",
    "    time.sleep(3)\n",
    "    \n",
    "    # Selectionner les deux tables: joueurs et matches\n",
    "    players_table, matches_table = driver.find_elements(By.CSS_SELECTOR, '.stats_table.sortable')[:2]\n",
    "\n",
    "    # Selectionner les colonnes de table joueurs\n",
    "    players_table_cols = players_table.find_elements(By.CSS_SELECTOR, 'thead > tr:last-child > *')[:16]\n",
    "    players_table_cols = list(map(lambda x: x.text, players_table_cols))\n",
    "\n",
    "    # Selectionner les lignes du tableau\n",
    "    players_table_rows = players_table.find_elements(By.CSS_SELECTOR, 'tbody > tr:not([class])')\n",
    "\n",
    "    details_list = []\n",
    "\n",
    "    # Pour chaque joueur, stocker leur details \n",
    "    for row in players_table_rows:\n",
    "        row_selector = row.find_elements(By.CSS_SELECTOR, '[data-stat]')[:16]\n",
    "\n",
    "        player_details = list(map(lambda x: x.text, row_selector))\n",
    "\n",
    "        details_list.append(player_details)\n",
    "\n",
    "    # Transformer la liste en Dataframe\n",
    "    players_dict = {}\n",
    "\n",
    "    for i in range(len(players_table_cols)):\n",
    "        players_dict[players_table_cols[i]] = [item[i] for item in details_list]\n",
    "\n",
    "    players_df = pd.DataFrame(players_dict)\n",
    "\n",
    "    # Les valeur sont sous forme (eg Egy), alors on garde la derniere valeur\n",
    "    players_df['Nation'] = players_df['Nation'].apply(lambda x: x.split(' ')[-1])\n",
    "\n",
    "    # Sauvegarder le tableau sous forme d'un fichier csv\n",
    "    players_df.to_csv(squad_path + '/players.csv', index=False)\n",
    "\n",
    "    # Selectionner les colonnes de table matches\n",
    "    matches_table_cols = matches_table.find_elements(By.CSS_SELECTOR, 'thead > tr > th')[:18]\n",
    "    matches_table_cols = list(map(lambda x: x.text, matches_table_cols))\n",
    "\n",
    "    # Selectionner les lignes du tableau\n",
    "    matches_table_rows = matches_table.find_elements(By.CSS_SELECTOR, 'tbody > tr:not([class])')\n",
    "\n",
    "    details_list = []\n",
    "\n",
    "    # Pour chaque joueur, stocker leur details \n",
    "    for row in matches_table_rows:\n",
    "        row_selector = row.find_elements(By.CSS_SELECTOR, '[data-stat]')[:18]\n",
    "\n",
    "        match_details = list(map(lambda x: x.text, row_selector))\n",
    "\n",
    "        details_list.append(match_details)\n",
    "\n",
    "    # Transformer la liste en Dataframe\n",
    "    matches_dict = {}\n",
    "\n",
    "    for i in range(len(matches_table_cols)):\n",
    "        matches_dict[matches_table_cols[i]] = [item[i] for item in details_list]\n",
    "\n",
    "    matches_df = pd.DataFrame(matches_dict)\n",
    "\n",
    "    # Sauvegarder le tableau sous forme d'un fichier csv\n",
    "    matches_df.to_csv(squad_path + '/matches.csv', index=False)\n",
    "\n",
    "    # Fermer la fenêtre courante\n",
    "    driver.close()\n",
    "\n",
    "driver.quit()\n",
    "\n",
    "\n",
    "\n"
   ]
  }
 ],
 "metadata": {
  "kernelspec": {
   "display_name": "Python 3",
   "language": "python",
   "name": "python3"
  },
  "language_info": {
   "codemirror_mode": {
    "name": "ipython",
    "version": 3
   },
   "file_extension": ".py",
   "mimetype": "text/x-python",
   "name": "python",
   "nbconvert_exporter": "python",
   "pygments_lexer": "ipython3",
   "version": "3.13.7"
  }
 },
 "nbformat": 4,
 "nbformat_minor": 5
}
