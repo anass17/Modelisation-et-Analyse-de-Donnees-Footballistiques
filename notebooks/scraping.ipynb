{
 "cells": [
  {
   "cell_type": "markdown",
   "id": "910b5144",
   "metadata": {},
   "source": [
    "### Extraire les informations sur les équipes participant à la Premier League pour la saison 2024–2025."
   ]
  },
  {
   "cell_type": "code",
   "execution_count": 6,
   "id": "18f6b909",
   "metadata": {},
   "outputs": [],
   "source": [
    "from selenium import webdriver\n",
    "from selenium.webdriver.common.by import By\n",
    "from selenium.webdriver.common.keys import Keys\n",
    "from selenium.webdriver.chrome.options import Options\n",
    "\n",
    "chrome_options = Options()\n",
    "chrome_options.add_argument(\"--start-maximized\")\n",
    "\n",
    "driver = webdriver.Chrome(options=chrome_options)\n",
    "\n",
    "driver.get(\"https://fbref.com/en/comps/9/2024-2025/2024-2025-Premier-League-Stats\")\n",
    "\n"
   ]
  },
  {
   "cell_type": "markdown",
   "id": "ff44c3cc",
   "metadata": {},
   "source": [
    "- Selectionner tous les équipes:"
   ]
  },
  {
   "cell_type": "code",
   "execution_count": null,
   "id": "b300e1c1",
   "metadata": {},
   "outputs": [],
   "source": [
    "try:\n",
    "    squads_table = driver.find_element(By.CSS_SELECTOR, '.stats_table.sortable')\n",
    "except:\n",
    "    print('Table Not found')\n",
    "else:\n",
    "    squads = squads_table.find_elements(By.CSS_SELECTOR, 'tbody > tr td[data-stat=\"team\"] a')\n"
   ]
  }
 ],
 "metadata": {
  "kernelspec": {
   "display_name": "Python 3",
   "language": "python",
   "name": "python3"
  },
  "language_info": {
   "codemirror_mode": {
    "name": "ipython",
    "version": 3
   },
   "file_extension": ".py",
   "mimetype": "text/x-python",
   "name": "python",
   "nbconvert_exporter": "python",
   "pygments_lexer": "ipython3",
   "version": "3.13.7"
  }
 },
 "nbformat": 4,
 "nbformat_minor": 5
}
