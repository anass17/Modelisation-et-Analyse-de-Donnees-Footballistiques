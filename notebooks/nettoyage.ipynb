{
 "cells": [
  {
   "cell_type": "markdown",
   "id": "5e8e9d9d",
   "metadata": {},
   "source": [
    "### Nettoyage : suppression ou traitement des valeurs manquantes et incohérentes."
   ]
  },
  {
   "cell_type": "code",
   "execution_count": 465,
   "id": "07b230fe",
   "metadata": {},
   "outputs": [],
   "source": [
    "import pandas as pd\n",
    "import os\n",
    "import matplotlib.pyplot as plt"
   ]
  },
  {
   "cell_type": "code",
   "execution_count": 466,
   "id": "5a624aad",
   "metadata": {},
   "outputs": [],
   "source": [
    "raw_teams_path = '../data/raw/teams'\n",
    "processed_path = '../data/processed/'\n",
    "processed_grouped_data = os.path.join(processed_path, 'grouped-teams')\n",
    "\n",
    "teams = os.listdir(raw_teams_path)"
   ]
  },
  {
   "cell_type": "markdown",
   "id": "3b45ad93",
   "metadata": {},
   "source": [
    "- Grouper les dataframes"
   ]
  },
  {
   "cell_type": "code",
   "execution_count": 467,
   "id": "b3f72d76",
   "metadata": {},
   "outputs": [],
   "source": [
    "players_dataframes = pd.DataFrame()\n",
    "matches_dataframes = pd.DataFrame()\n",
    "\n",
    "os.makedirs(processed_grouped_data, exist_ok=True)\n",
    "\n",
    "for team_name in teams:\n",
    "\n",
    "    player_df = pd.read_csv(os.path.join(raw_teams_path, team_name) + '/players.csv')\n",
    "    player_df['team'] = team_name\n",
    "    players_dataframes = pd.concat([players_dataframes, player_df], ignore_index=True)\n",
    "\n",
    "    match_df = pd.read_csv(os.path.join(raw_teams_path, team_name) + '/matches.csv')\n",
    "    match_df['team'] = team_name\n",
    "    matches_dataframes = pd.concat([matches_dataframes, match_df], ignore_index=True)\n",
    "\n",
    "    players_dataframes.to_csv(os.path.join(processed_grouped_data, 'players.csv'), index=False)\n",
    "    matches_dataframes.to_csv(os.path.join(processed_grouped_data, 'matches.csv'), index=False)\n",
    "\n",
    "    \n",
    "\n"
   ]
  },
  {
   "cell_type": "markdown",
   "id": "b2ea3354",
   "metadata": {},
   "source": [
    "##### Chargement de dataframes"
   ]
  },
  {
   "cell_type": "code",
   "execution_count": 468,
   "id": "bb2962f4",
   "metadata": {},
   "outputs": [],
   "source": [
    "players_dataframe = pd.read_csv(os.path.join(processed_grouped_data, 'players.csv'))\n",
    "matches_dataframe = pd.read_csv(os.path.join(processed_grouped_data, 'matches.csv'))"
   ]
  },
  {
   "cell_type": "markdown",
   "id": "98ee8474",
   "metadata": {},
   "source": [
    "##### Identification de valeurs manquantes"
   ]
  },
  {
   "cell_type": "markdown",
   "id": "3f52c527",
   "metadata": {},
   "source": [
    "- Joueurs"
   ]
  },
  {
   "cell_type": "code",
   "execution_count": 469,
   "id": "da80a006",
   "metadata": {},
   "outputs": [
    {
     "name": "stdout",
     "output_type": "stream",
     "text": [
      "-- Valeur manquantes (joueurs):\n",
      "Player      0\n",
      "Nation      6\n",
      "Pos         0\n",
      "Age         5\n",
      "MP          0\n",
      "Starts      0\n",
      "Min       128\n",
      "90s       128\n",
      "Gls       128\n",
      "Ast       128\n",
      "G+A       128\n",
      "G-PK      128\n",
      "PK        128\n",
      "PKatt     128\n",
      "CrdY      128\n",
      "CrdR      128\n",
      "team        0\n",
      "dtype: int64 \n",
      "\n"
     ]
    }
   ],
   "source": [
    "print('-- Valeur manquantes (joueurs):')\n",
    "print(players_dataframe.isna().sum(), '\\n')\n"
   ]
  },
  {
   "cell_type": "code",
   "execution_count": 470,
   "id": "eed46f82",
   "metadata": {},
   "outputs": [
    {
     "name": "stdout",
     "output_type": "stream",
     "text": [
      "-- Valeur manquantes (matches):\n",
      "Date               0\n",
      "Time               0\n",
      "Comp               0\n",
      "Round              0\n",
      "Day                0\n",
      "Venue              0\n",
      "Result             0\n",
      "GF                 0\n",
      "GA                 0\n",
      "Opponent           0\n",
      "xG               126\n",
      "xGA              126\n",
      "Poss              22\n",
      "Attendance         6\n",
      "Captain            0\n",
      "Formation          0\n",
      "Opp Formation      0\n",
      "Referee            5\n",
      "team               0\n",
      "dtype: int64 \n",
      "\n"
     ]
    }
   ],
   "source": [
    "print('-- Valeur manquantes (matches):')\n",
    "print(matches_dataframe.isna().sum(), '\\n')\n"
   ]
  },
  {
   "cell_type": "markdown",
   "id": "6bb6b55c",
   "metadata": {},
   "source": [
    "##### Nettoyage: Traitement de valeurs manquantes"
   ]
  },
  {
   "cell_type": "markdown",
   "id": "6ea3528d",
   "metadata": {},
   "source": [
    "- Remplacer les statistiques de joueurs qui n'ont jamais joué un match, par 0"
   ]
  },
  {
   "cell_type": "code",
   "execution_count": 471,
   "id": "bf1c0ef2",
   "metadata": {},
   "outputs": [],
   "source": [
    "players_dataframe.loc[players_dataframe['MP'] == 0, 'Min':'CrdR'] = 0"
   ]
  },
  {
   "cell_type": "markdown",
   "id": "b8ef5f01",
   "metadata": {},
   "source": [
    "- Conversion en entier"
   ]
  },
  {
   "cell_type": "code",
   "execution_count": 472,
   "id": "819328f5",
   "metadata": {},
   "outputs": [],
   "source": [
    "matches_dataframe['Attendance'] = matches_dataframe['Attendance'].apply(lambda x: int(x.replace(',', '')) if type(x) == str else x)"
   ]
  },
  {
   "cell_type": "markdown",
   "id": "95052a11",
   "metadata": {},
   "source": [
    "- Remplacer par mode, mediane ou moyenne"
   ]
  },
  {
   "cell_type": "code",
   "execution_count": 473,
   "id": "34fe4cb9",
   "metadata": {},
   "outputs": [],
   "source": [
    "players_dataframe['Nation'] = players_dataframe['Nation'].fillna(players_dataframe['Nation'].mode()[0])\n",
    "players_dataframe['Age'] = players_dataframe['Age'].fillna(players_dataframe['Age'].median())\n",
    "\n",
    "matches_dataframe['Poss'] = matches_dataframe['Poss'].fillna(matches_dataframe['Poss'].median())\n",
    "matches_dataframe['Attendance'] = matches_dataframe['Attendance'].fillna(matches_dataframe['Attendance'].median())"
   ]
  },
  {
   "cell_type": "markdown",
   "id": "8de13eb8",
   "metadata": {},
   "source": [
    "- Remplacer par \"Unknown\""
   ]
  },
  {
   "cell_type": "code",
   "execution_count": 474,
   "id": "15061d6c",
   "metadata": {},
   "outputs": [],
   "source": [
    "matches_dataframe['Referee'] = matches_dataframe['Referee'].fillna(\"Unknown\")"
   ]
  },
  {
   "cell_type": "markdown",
   "id": "b1ed03fe",
   "metadata": {},
   "source": [
    "- Remplacer par le moyenne de l'equipe"
   ]
  },
  {
   "cell_type": "code",
   "execution_count": 475,
   "id": "7436fdea",
   "metadata": {},
   "outputs": [],
   "source": [
    "matches_dataframe['xG'] = matches_dataframe.groupby('team')['xG'].transform(lambda x: x.fillna(round(x.mean(), 1)))\n",
    "matches_dataframe['xGA'] = matches_dataframe.groupby('team')['xGA'].transform(lambda x: x.fillna(round(x.mean(), 1)))"
   ]
  },
  {
   "cell_type": "markdown",
   "id": "20d56e0d",
   "metadata": {},
   "source": [
    "- Après le traitement de valeurs manquantes"
   ]
  },
  {
   "cell_type": "code",
   "execution_count": 476,
   "id": "6697aee8",
   "metadata": {},
   "outputs": [
    {
     "name": "stdout",
     "output_type": "stream",
     "text": [
      "-- Valeur manquantes (joueurs):\n",
      "Player    0\n",
      "Nation    0\n",
      "Pos       0\n",
      "Age       0\n",
      "MP        0\n",
      "Starts    0\n",
      "Min       0\n",
      "90s       0\n",
      "Gls       0\n",
      "Ast       0\n",
      "G+A       0\n",
      "G-PK      0\n",
      "PK        0\n",
      "PKatt     0\n",
      "CrdY      0\n",
      "CrdR      0\n",
      "team      0\n",
      "dtype: int64 \n",
      "\n"
     ]
    }
   ],
   "source": [
    "print('-- Valeur manquantes (joueurs):')\n",
    "print(players_dataframe.isna().sum(), '\\n')\n"
   ]
  },
  {
   "cell_type": "code",
   "execution_count": 477,
   "id": "35065c79",
   "metadata": {},
   "outputs": [
    {
     "name": "stdout",
     "output_type": "stream",
     "text": [
      "-- Valeur manquantes (matches):\n",
      "Date             0\n",
      "Time             0\n",
      "Comp             0\n",
      "Round            0\n",
      "Day              0\n",
      "Venue            0\n",
      "Result           0\n",
      "GF               0\n",
      "GA               0\n",
      "Opponent         0\n",
      "xG               0\n",
      "xGA              0\n",
      "Poss             0\n",
      "Attendance       0\n",
      "Captain          0\n",
      "Formation        0\n",
      "Opp Formation    0\n",
      "Referee          0\n",
      "team             0\n",
      "dtype: int64 \n",
      "\n"
     ]
    }
   ],
   "source": [
    "print('-- Valeur manquantes (matches):')\n",
    "print(matches_dataframe.isna().sum(), '\\n')"
   ]
  },
  {
   "cell_type": "markdown",
   "id": "cfbe8dd2",
   "metadata": {},
   "source": [
    "##### Standardisation:"
   ]
  },
  {
   "cell_type": "markdown",
   "id": "3c20ed09",
   "metadata": {},
   "source": [
    "- Types de colonnes"
   ]
  },
  {
   "cell_type": "code",
   "execution_count": 478,
   "id": "28ef98ad",
   "metadata": {},
   "outputs": [
    {
     "name": "stdout",
     "output_type": "stream",
     "text": [
      "Player     object\n",
      "Nation     object\n",
      "Pos        object\n",
      "Age       float64\n",
      "MP          int64\n",
      "Starts      int64\n",
      "Min        object\n",
      "90s       float64\n",
      "Gls       float64\n",
      "Ast       float64\n",
      "G+A       float64\n",
      "G-PK      float64\n",
      "PK        float64\n",
      "PKatt     float64\n",
      "CrdY      float64\n",
      "CrdR      float64\n",
      "team       object\n",
      "dtype: object\n"
     ]
    }
   ],
   "source": [
    "print(players_dataframe.dtypes)"
   ]
  },
  {
   "cell_type": "code",
   "execution_count": 479,
   "id": "a7cece8c",
   "metadata": {},
   "outputs": [
    {
     "name": "stdout",
     "output_type": "stream",
     "text": [
      "Date              object\n",
      "Time              object\n",
      "Comp              object\n",
      "Round             object\n",
      "Day               object\n",
      "Venue             object\n",
      "Result            object\n",
      "GF                object\n",
      "GA                object\n",
      "Opponent          object\n",
      "xG               float64\n",
      "xGA              float64\n",
      "Poss             float64\n",
      "Attendance       float64\n",
      "Captain           object\n",
      "Formation         object\n",
      "Opp Formation     object\n",
      "Referee           object\n",
      "team              object\n",
      "dtype: object\n"
     ]
    }
   ],
   "source": [
    "print(matches_dataframe.dtypes)"
   ]
  },
  {
   "cell_type": "markdown",
   "id": "d1c97ede",
   "metadata": {},
   "source": [
    "- Table joueurs"
   ]
  },
  {
   "cell_type": "code",
   "execution_count": 480,
   "id": "ecfbee6e",
   "metadata": {},
   "outputs": [],
   "source": [
    "players_dataframe['Min'] = players_dataframe['Min'].apply(lambda x: int(str(x).replace(',', '')))\n",
    "players_dataframe['Age'] = players_dataframe['Age'].apply(lambda x: int(x))\n",
    "players_dataframe['Gls'] = players_dataframe['Gls'].apply(lambda x: int(x))\n",
    "players_dataframe['Ast'] = players_dataframe['Ast'].apply(lambda x: int(x))\n",
    "players_dataframe['G+A'] = players_dataframe['G+A'].apply(lambda x: int(x))\n",
    "players_dataframe['G-PK'] = players_dataframe['G-PK'].apply(lambda x: int(x))\n",
    "players_dataframe['PK'] = players_dataframe['PK'].apply(lambda x: int(x))\n",
    "players_dataframe['PKatt'] = players_dataframe['PKatt'].apply(lambda x: int(x))\n",
    "players_dataframe['CrdY'] = players_dataframe['CrdY'].apply(lambda x: int(x))\n",
    "players_dataframe['CrdR'] = players_dataframe['CrdR'].apply(lambda x: int(x))\n"
   ]
  },
  {
   "cell_type": "markdown",
   "id": "f015fd60",
   "metadata": {},
   "source": [
    "- Table matches"
   ]
  },
  {
   "cell_type": "code",
   "execution_count": 481,
   "id": "6348fbb8",
   "metadata": {},
   "outputs": [],
   "source": [
    "# Garde la premiere partie (si le temps a plusieurs parties)\n",
    "matches_dataframe['Time'] = matches_dataframe['Time'].apply(lambda x: x.split(' ')[0])\n",
    "\n",
    "# Le nom de l'adversaire parfois contient des caracteres supplémentaire au debut\n",
    "matches_dataframe['Opponent'] = matches_dataframe['Opponent'].apply(lambda x: x[3:] if len(x.split(' ')[0]) == 2 else x)\n",
    "\n",
    "# Supprimer la virgule et convertir en entier\n",
    "matches_dataframe['Attendance'] = matches_dataframe['Attendance'].apply(lambda x: int(x.replace(',', '')) if type(x) == str else x)\n",
    "\n",
    "# Supprimer le caractère supplémentaire s'il existe\n",
    "matches_dataframe['Formation'] = matches_dataframe['Formation'].apply(lambda x: x.replace('◆', ''))\n",
    "matches_dataframe['Opp Formation'] = matches_dataframe['Opp Formation'].apply(lambda x: x.replace('◆', ''))\n",
    "\n",
    "# Remplacer les valeurs manquantes\n",
    "matches_dataframe['Attendance'] = matches_dataframe['Attendance'].fillna(int(matches_dataframe['Attendance'].median()))\n",
    "matches_dataframe['Poss'] = matches_dataframe['Poss'].fillna(matches_dataframe['Poss'].median())\n",
    "matches_dataframe['xG'] = matches_dataframe['xG'].fillna(round(matches_dataframe['xG'].mean(), 1))\n",
    "matches_dataframe['xGA'] = matches_dataframe['xGA'].fillna(round(matches_dataframe['xGA'].mean(), 1))\n",
    "\n",
    "matches_dataframe['Attendance'] = matches_dataframe['Attendance'].apply(lambda x: int(x))\n",
    "matches_dataframe['Poss'] = matches_dataframe['Poss'].apply(lambda x: int(x))\n"
   ]
  },
  {
   "cell_type": "markdown",
   "id": "8be1e3d5",
   "metadata": {},
   "source": [
    "- Traiter les lignes ou le resultat est un match nul: Garder le nombre de tirs au but et changer les resultats"
   ]
  },
  {
   "cell_type": "code",
   "execution_count": 482,
   "id": "97b88830",
   "metadata": {},
   "outputs": [],
   "source": [
    "small_df = matches_dataframe.loc[matches_dataframe['GA'].str.split(' ').str.len() == 2, ['Result', 'GF', 'GA']]\n",
    "\n",
    "small_df['GF'] = small_df[\"GF\"].apply(lambda x: int(x.split(\" \")[-1][1:-1]))\n",
    "\n",
    "small_df['GA'] = small_df[\"GA\"].apply(lambda x: int(x.split(\" \")[-1][1:-1]))\n",
    "\n",
    "small_df[\"Result\"] = small_df.apply(lambda x: \"W\" if x[\"GF\"] > x[\"GA\"] else \"L\", axis=1)\n",
    "\n",
    "matches_dataframe.loc[matches_dataframe['GA'].str.split(' ').str.len() == 2, ['Result', 'GF', 'GA']] = small_df"
   ]
  },
  {
   "cell_type": "markdown",
   "id": "425168cb",
   "metadata": {},
   "source": [
    "- Suppression des matches doublons"
   ]
  },
  {
   "cell_type": "code",
   "execution_count": 483,
   "id": "a3de8fca",
   "metadata": {},
   "outputs": [],
   "source": [
    "matches_dataframe = matches_dataframe[matches_dataframe[\"Venue\"] == \"Home\"]"
   ]
  },
  {
   "cell_type": "markdown",
   "id": "92705265",
   "metadata": {},
   "source": [
    "##### Sauvegarder les resultats"
   ]
  },
  {
   "cell_type": "code",
   "execution_count": 484,
   "id": "56f92a2d",
   "metadata": {},
   "outputs": [],
   "source": [
    "processed_path = '../data/processed/'\n",
    "processed_cleaned_data = os.path.join(processed_path, 'cleaned-teams')\n",
    "\n",
    "os.makedirs(processed_cleaned_data, exist_ok=True)\n",
    "\n",
    "players_dataframe.to_csv(processed_cleaned_data + '/players.csv', index=False)\n",
    "matches_dataframe.to_csv(processed_cleaned_data + '/matches.csv', index=False)"
   ]
  }
 ],
 "metadata": {
  "kernelspec": {
   "display_name": "Python 3",
   "language": "python",
   "name": "python3"
  },
  "language_info": {
   "codemirror_mode": {
    "name": "ipython",
    "version": 3
   },
   "file_extension": ".py",
   "mimetype": "text/x-python",
   "name": "python",
   "nbconvert_exporter": "python",
   "pygments_lexer": "ipython3",
   "version": "3.13.7"
  }
 },
 "nbformat": 4,
 "nbformat_minor": 5
}
