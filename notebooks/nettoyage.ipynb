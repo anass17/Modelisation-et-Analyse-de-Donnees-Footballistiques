{
 "cells": [
  {
   "cell_type": "markdown",
   "id": "5e8e9d9d",
   "metadata": {},
   "source": [
    "### Nettoyage : suppression ou traitement des valeurs manquantes et incohérentes."
   ]
  },
  {
   "cell_type": "code",
   "execution_count": 13,
   "id": "07b230fe",
   "metadata": {},
   "outputs": [],
   "source": [
    "import pandas as pd\n",
    "import os"
   ]
  },
  {
   "cell_type": "code",
   "execution_count": 30,
   "id": "5a624aad",
   "metadata": {},
   "outputs": [],
   "source": [
    "raw_teams_path = '../data/raw/teams'\n",
    "processed_teams_path = '../data/processed/teams'\n",
    "\n",
    "teams = os.listdir(raw_teams_path)"
   ]
  },
  {
   "cell_type": "markdown",
   "id": "cfbe8dd2",
   "metadata": {},
   "source": [
    "- Nettoyage de table joueurs par: la suppression de lignes dont MP = 0 et conversion des colonnes en entiers "
   ]
  },
  {
   "cell_type": "code",
   "execution_count": null,
   "id": "ecfbee6e",
   "metadata": {},
   "outputs": [],
   "source": [
    "for team_name in teams:\n",
    "    df = pd.read_csv(os.path.join(raw_teams_path, team_name) + '/players.csv')\n",
    "\n",
    "    df = df[df['MP'] != 0]\n",
    "\n",
    "    df['Min'] = df['Min'].apply(lambda x: int(x.replace(',', '')))\n",
    "    df['Gls'] = df['Gls'].apply(lambda x: int(x))\n",
    "    df['Ast'] = df['Ast'].apply(lambda x: int(x))\n",
    "    df['G+A'] = df['G+A'].apply(lambda x: int(x))\n",
    "    df['G-PK'] = df['G-PK'].apply(lambda x: int(x))\n",
    "    df['PK'] = df['PK'].apply(lambda x: int(x))\n",
    "    df['PKatt'] = df['PKatt'].apply(lambda x: int(x))\n",
    "    df['CrdY'] = df['CrdY'].apply(lambda x: int(x))\n",
    "    df['CrdR'] = df['CrdR'].apply(lambda x: int(x))\n",
    "\n",
    "    df = df[~df.duplicated()]\n",
    "\n",
    "    os.makedirs(os.path.join(processed_teams_path, team_name), exist_ok=True)\n",
    "\n",
    "    df.to_csv(os.path.join(processed_teams_path, team_name) + '/players.csv', index=False)\n"
   ]
  },
  {
   "cell_type": "markdown",
   "id": "f015fd60",
   "metadata": {},
   "source": [
    "- Nettoyage de table matches"
   ]
  },
  {
   "cell_type": "code",
   "execution_count": 97,
   "id": "6348fbb8",
   "metadata": {},
   "outputs": [
    {
     "name": "stdout",
     "output_type": "stream",
     "text": [
      "Arsenal\n",
      "Aston Villa\n",
      "Bournemouth\n",
      "Brentford\n",
      "Brighton\n",
      "Chelsea\n",
      "Crystal Palace\n",
      "Everton\n",
      "Fulham\n",
      "Ipswich Town\n",
      "Leicester City\n",
      "Liverpool\n",
      "Manchester City\n",
      "Manchester Utd\n",
      "Newcastle Utd\n",
      "Nott'ham Forest\n",
      "Southampton\n",
      "Tottenham\n",
      "West Ham\n",
      "Wolves\n"
     ]
    }
   ],
   "source": [
    "for team_name in teams:\n",
    "    print(team_name)\n",
    "    df = pd.read_csv(os.path.join(raw_teams_path, team_name) + '/matches.csv')\n",
    "\n",
    "    # Garde la premiere partie (si le temps a plusieurs parties)\n",
    "    df['Time'] = df['Time'].apply(lambda x: x.split(' ')[0])\n",
    "\n",
    "    # Dans le cas d'un match nul, GA et GF contient le nombre de buts marqués aux tirs au but\n",
    "    if (df.dtypes['GF'] == 'object'):\n",
    "        df['GF'] = df['GF'].apply(lambda x: int(x.split(' ')[0]))\n",
    "\n",
    "    if (df.dtypes['GA'] == 'object'):\n",
    "        df['GA'] = df['GA'].apply(lambda x: int(x.split(' ')[0]))\n",
    "    \n",
    "    # Le nom de l'adversaire parfois contient des caracteres supplémentaire au debut\n",
    "    df['Opponent'] = df['Opponent'].apply(lambda x: x[3:] if len(x.split(' ')[0]) == 2 else x)\n",
    "\n",
    "    # Supprimer la virgule et convertir en entier\n",
    "    df['Attendance'] = df['Attendance'].apply(lambda x: int(x.replace(',', '')) if type(x) == str else x)\n",
    "\n",
    "    # Supprimer le caractère supplémentaire s'il existe\n",
    "    df['Formation'] = df['Formation'].apply(lambda x: x.replace('◆', ''))\n",
    "    df['Opp Formation'] = df['Opp Formation'].apply(lambda x: x.replace('◆', ''))\n",
    "    \n",
    "    # Remplacer les valeurs manquantes\n",
    "    df['Attendance'] = df['Attendance'].fillna(int(df['Attendance'].median()))\n",
    "    df['Poss'] = df['Poss'].fillna(df['Poss'].median())\n",
    "    df['xG'] = df['xG'].fillna(round(df['xG'].mean(), 1))\n",
    "    df['xGA'] = df['xGA'].fillna(round(df['xGA'].mean(), 1))\n",
    "\n",
    "    df['Attendance'] = df['Attendance'].apply(lambda x: int(x))\n",
    "    df['Poss'] = df['Poss'].apply(lambda x: int(x))\n",
    "\n",
    "    df = df[~df.duplicated()]\n",
    "\n",
    "    os.makedirs(os.path.join(processed_teams_path, team_name), exist_ok=True)\n",
    "\n",
    "    df.to_csv(os.path.join(processed_teams_path, team_name) + '/matches.csv', index=False)\n"
   ]
  }
 ],
 "metadata": {
  "kernelspec": {
   "display_name": "Python 3",
   "language": "python",
   "name": "python3"
  },
  "language_info": {
   "codemirror_mode": {
    "name": "ipython",
    "version": 3
   },
   "file_extension": ".py",
   "mimetype": "text/x-python",
   "name": "python",
   "nbconvert_exporter": "python",
   "pygments_lexer": "ipython3",
   "version": "3.13.7"
  }
 },
 "nbformat": 4,
 "nbformat_minor": 5
}
