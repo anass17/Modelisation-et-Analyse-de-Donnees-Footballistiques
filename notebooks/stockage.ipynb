{
 "cells": [
  {
   "cell_type": "markdown",
   "id": "2e509c93",
   "metadata": {},
   "source": []
  },
  {
   "cell_type": "code",
   "execution_count": null,
   "id": "4fda7918",
   "metadata": {},
   "outputs": [],
   "source": [
    "from sqlalchemy import create_engine, Column, Integer, String\n",
    "from sqlalchemy.orm import declarative_base, sessionmaker\n",
    "\n",
    "# Create a base class for models\n",
    "Base = declarative_base()\n",
    "\n",
    "# Define a table as a Python class\n",
    "class User(Base):\n",
    "    __tablename__ = 'users'\n",
    "    \n",
    "    id = Column(Integer, primary_key=True)\n",
    "    name = Column(String)\n",
    "    email = Column(String)\n",
    "\n",
    "# Create the database (SQLite here)\n",
    "engine = create_engine('sqlite:///example.db')\n",
    "Base.metadata.create_all(engine)\n",
    "\n",
    "# Create a session to interact with the DB\n",
    "Session = sessionmaker(bind=engine)\n",
    "session = Session()\n",
    "\n",
    "# Add data\n",
    "new_user = User(name=\"Anass\", email=\"anass@example.com\")\n",
    "session.add(new_user)\n",
    "session.commit()\n",
    "\n",
    "# Query data\n",
    "for user in session.query(User).all():\n",
    "    print(user.name, user.email)\n",
    "\n"
   ]
  }
 ],
 "metadata": {
  "language_info": {
   "name": "python"
  }
 },
 "nbformat": 4,
 "nbformat_minor": 5
}
